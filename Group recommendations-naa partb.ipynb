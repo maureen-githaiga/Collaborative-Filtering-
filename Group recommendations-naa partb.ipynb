{
 "cells": [
  {
   "cell_type": "code",
   "execution_count": 1,
   "metadata": {},
   "outputs": [],
   "source": [
    "import pandas as pd\n",
    "import numpy as np\n",
    "import math as m\n",
    "import random as r\n",
    "from tabulate import tabulate\n",
    "from scipy.stats import pearsonr\n",
    "from scipy.stats import spearmanr\n",
    "links = pd.read_csv('ml-latest-small/links.csv')\n",
    "links.head(5)\n",
    "movies = pd.read_csv('ml-latest-small/movies.csv')\n",
    "movies.head(5)\n",
    "tags = pd.read_csv('ml-latest-small/tags.csv')\n",
    "tags.head(5)\n",
    "ratings = pd.read_csv(\"ml-latest-small/ratings.csv\")\n",
    "ratings.head(5)\n",
    "#dropping the timestamp column\n",
    "ratings = ratings.drop(['timestamp'], axis=1)\n",
    "#movie and ratings dataset\n",
    "movie_ratings = pd.merge(ratings, movies, on='movieId')\n",
    "movie_ratings.head()\n",
    "#reshaping the data to table based on column values\n",
    "user_ptable= ratings.pivot(index='userId', columns='movieId', values='rating')\n",
    "user_ptable.head()\n",
    "\n",
    "# Convert user IDs to integers\n",
    "#user_ptable.index = user_ptable.index.astype(int)\n",
    "\n",
    "# Reset the index of user_ptable\n",
    "#user_ptable.reset_index(drop=True, inplace=True)\n",
    "\n",
    "\n",
    "\n",
    "#pearson correlation coefficient\n",
    "def pearson_correlation(user_a_ratings,user_b_ratings, user_ptable):\n",
    "    corr,_ = pearsonr(user_a_ratings,user_b_ratings)\n",
    "    return corr\n",
    "\n",
    "def user_collaborative_filtering(target_user,user_ptable,correlationfunction):\n",
    "    '''\n",
    "    Gets the most similar users and their correlations to the target user\n",
    "    Parameters: int target_user -user id in the dataset\n",
    "                user_ptable - data as a pivot table\n",
    "                correlationfunction - the correlation function to be used\n",
    "    Return: dict similar_users -dictionary of users who have rated similar movies as the target user\n",
    "    with their ratings.\n",
    "    '''\n",
    "    similar_users = {}\n",
    "    #other users who are not the target user\n",
    "    for user_b in user_ptable.index:\n",
    "        if user_b != target_user:\n",
    "            # ratings for the target user and user_b\n",
    "            target_user_ratings = user_ptable.loc[target_user].dropna()\n",
    "            user_b_ratings = user_ptable.loc[user_b].dropna()\n",
    "\n",
    "            # common rated movies\n",
    "            common_rated_movies = target_user_ratings.index.intersection(user_b_ratings.index)\n",
    "            #filter for at least 2  common rated movies\n",
    "            if len(common_rated_movies) >= 2:\n",
    "                #filter  ratings to include only common rated movies\n",
    "                target_user_ratings = target_user_ratings[common_rated_movies]\n",
    "                user_b_ratings = user_b_ratings[common_rated_movies]\n",
    "                #check if either contains all the same elements as correlation will be 1 regardless of actual rating\n",
    "                if len(set(target_user_ratings)) == 1 or len(set(user_b_ratings)) == 1:\n",
    "                    continue\n",
    "                similar_users[user_b] = correlationfunction(target_user_ratings,user_b_ratings,user_ptable)\n",
    "                    \n",
    "    return similar_users      \n"
   ]
  },
  {
   "cell_type": "code",
   "execution_count": 2,
   "metadata": {},
   "outputs": [],
   "source": [
    "def user_prediction(user_a,item_p,user_ptable,similarities):\n",
    "    '''\n",
    "    Calculates the predicted rating of user `user_a` for item `item_p`.\n",
    "    Parameters: int user_a - the index of the target user\n",
    "                int item_p - the index of the unseen movie by target user\n",
    "                user_ptable - pivot table of data\n",
    "                similarities - the dictionary of correlations between target user\n",
    "                  and other users.\n",
    "    Return: int prediction - rating of user a for item p\n",
    "    '''\n",
    "    user_a_ratings = user_ptable.loc[user_a]\n",
    "    mean_usera_ratings = user_a_ratings.mean()\n",
    "    unseen_item_ratings = user_ptable.loc[:, item_p].dropna()\n",
    "\n",
    "    # Get the similarity scores between the target user and other users who have rated the unseen item.\n",
    "    #relevant_similarities = {}\n",
    "    predicted_rating = 0\n",
    "    weighted_difference = 0\n",
    "    similarity_sum = 0\n",
    "    for user_b, similarity in similarities.items():\n",
    "        if user_b != user_a and user_b in unseen_item_ratings.index:\n",
    "            user_b_ratings = user_ptable.loc[user_b]\n",
    "            mean_userb_ratings = user_b_ratings.mean()\n",
    "            rating_difference = unseen_item_ratings.loc[user_b] - mean_userb_ratings\n",
    "            weighted_difference += (similarity*rating_difference)\n",
    "            similarity_sum += abs(similarity)\n",
    "\n",
    "    if similarity_sum != 0:\n",
    "        # the prediction as the active user's mean plus the weighted rating differences\n",
    "        predicted_rating = mean_usera_ratings + (weighted_difference / similarity_sum)\n",
    "    else:\n",
    "        predicted_rating = mean_usera_ratings\n",
    "\n",
    "    return np.clip(predicted_rating,0.5,5)\n",
    "   \n",
    "   "
   ]
  },
  {
   "cell_type": "code",
   "execution_count": 3,
   "metadata": {},
   "outputs": [],
   "source": [
    "def get_user_recommendations(user, user_ptable, correlationfunction, prediction_function):\n",
    "    similar_users = user_collaborative_filtering(user, user_ptable, correlationfunction)\n",
    "    sorted_similar_users =  sorted(similar_users.items(), key=lambda item: item[1],reverse=True)\n",
    "    #sorted_similar_users = sorted(similar_users.items(), key=operator.itemgetter(1), reverse=True)\n",
    "    top_similar_users = sorted_similar_users[:10]\n",
    "    top_10_similar_users_dict={}\n",
    "    for user,similarity in top_similar_users:\n",
    "        top_10_similar_users_dict[user]=similarity\n",
    "    user_recommendations = {}\n",
    "    for movie in user_ptable.columns:\n",
    "        if pd.isna(user_ptable.loc[user, movie]):\n",
    "            user_recommendations[movie] = prediction_function(user, movie, user_ptable, top_10_similar_users_dict)\n",
    "    return user_recommendations"
   ]
  },
  {
   "cell_type": "code",
   "execution_count": 4,
   "metadata": {},
   "outputs": [],
   "source": [
    "def group_recommendations(user_recommendations_dict, aggregation_method, top_n = 10):\n",
    "  \n",
    "    movie_ratings = {}\n",
    "    #user_recommendations_list = [user_recommendations]\n",
    "    for user,recommendations in user_recommendations_dict.items():\n",
    "        for movie, rating in recommendations.items():\n",
    "            if movie not in movie_ratings:\n",
    "                movie_ratings[movie] = []\n",
    "            movie_ratings[movie].append(rating)\n",
    "    aggregated_ratings = {}   \n",
    "    if aggregation_method == 'average':\n",
    "        aggregated_ratings = {movie: np.mean(ratings) for movie, ratings in movie_ratings.items()}\n",
    "\n",
    "    elif aggregation_method == 'least misery':\n",
    "        aggregated_ratings = {movie: np.min(ratings) for movie, ratings in movie_ratings.items()}\n",
    "        \n",
    "    #group recommendations\n",
    "    sorted_group_recommendations = sorted(aggregated_ratings.items(), key=lambda item: item[1], reverse=True)\n",
    "    top_group_recommendations = sorted_group_recommendations[:top_n]\n",
    "\n",
    "    return top_group_recommendations\n"
   ]
  },
  {
   "cell_type": "code",
   "execution_count": 5,
   "metadata": {},
   "outputs": [],
   "source": [
    "group_users = np.random.choice(user_ptable.index, size=3, replace=False)\n",
    "user_recommendations_dict = {}\n",
    "for user in group_users:\n",
    "    user_recommendations_dict [user] = get_user_recommendations(user, user_ptable, pearson_correlation, user_prediction)\n",
    "\n",
    "average_ratings = group_recommendations(user_recommendations_dict,'average')\n",
    "least_misery_ratings = group_recommendations(user_recommendations_dict,'least misery')"
   ]
  },
  {
   "cell_type": "code",
   "execution_count": 6,
   "metadata": {},
   "outputs": [],
   "source": [
    "def create_dataframe(data, movies_df):\n",
    "    # Assuming movies_df is your DataFrame containing movie information\n",
    "    movie_titles_dict = movies_df.set_index('movieId')['title'].to_dict()\n",
    "\n",
    "    # Extract movie IDs, ratings, and titles from the list of tuples\n",
    "    movie_ids, ratings = zip(*data)\n",
    "    movie_titles = [movie_titles_dict.get(movie_id, 'Unknown') for movie_id in movie_ids]\n",
    "\n",
    "    movie_df = pd.DataFrame({\n",
    "        'Movie ID': movie_ids,\n",
    "        'Title': movie_titles,\n",
    "        'Rating': ratings\n",
    "    })\n",
    "\n",
    "    return movie_df"
   ]
  },
  {
   "cell_type": "code",
   "execution_count": 7,
   "metadata": {},
   "outputs": [
    {
     "name": "stdout",
     "output_type": "stream",
     "text": [
      "   Movie ID                                              Title    Rating\n",
      "0      4886                              Monsters, Inc. (2001)  4.838680\n",
      "1       595                        Beauty and the Beast (1991)  4.798325\n",
      "2       750  Dr. Strangelove or: How I Learned to Stop Worr...  4.752233\n",
      "3      5816     Harry Potter and the Chamber of Secrets (2002)  4.718750\n",
      "4     50872                                 Ratatouille (2007)  4.666667\n",
      "5      1136             Monty Python and the Holy Grail (1975)  4.659758\n",
      "6      1028                                Mary Poppins (1964)  4.648200\n",
      "7       457                               Fugitive, The (1993)  4.638520\n",
      "8      4034                                     Traffic (2000)  4.625498\n",
      "9        34                                        Babe (1995)  4.585661\n"
     ]
    }
   ],
   "source": [
    "average_recommendations = create_dataframe(average_ratings,movies)\n",
    "print(average_recommendations)"
   ]
  },
  {
   "cell_type": "code",
   "execution_count": 8,
   "metadata": {},
   "outputs": [
    {
     "name": "stdout",
     "output_type": "stream",
     "text": [
      "   Movie ID                                              Title    Rating\n",
      "0       595                        Beauty and the Beast (1991)  4.596649\n",
      "1       750  Dr. Strangelove or: How I Learned to Stop Worr...  4.537234\n",
      "2      4886                              Monsters, Inc. (2001)  4.516039\n",
      "3       110                                  Braveheart (1995)  4.500025\n",
      "4       356                                Forrest Gump (1994)  4.461171\n",
      "5      5816     Harry Potter and the Chamber of Secrets (2002)  4.437500\n",
      "6       260          Star Wars: Episode IV - A New Hope (1977)  4.311251\n",
      "7      1210  Star Wars: Episode VI - Return of the Jedi (1983)  4.301601\n",
      "8       457                               Fugitive, The (1993)  4.277041\n",
      "9       541                                Blade Runner (1982)  4.260000\n"
     ]
    }
   ],
   "source": [
    "least_misery_recommendations = create_dataframe(least_misery_ratings,movies)\n",
    "print(least_misery_recommendations)"
   ]
  },
  {
   "cell_type": "markdown",
   "metadata": {},
   "source": [
    "Part b"
   ]
  },
  {
   "cell_type": "markdown",
   "metadata": {},
   "source": [
    "\n",
    "Counting disagreements between users in a group involves measuring how different their preferences are. In the context of collaborative filtering for recommendation systems, users' preferences are often represented as vectors in a high-dimensional space, where each dimension corresponds to a different movie. A way is to use a similarity metric, such as cosine similarity. Cosine similarity measures the cosine of the angle between two vectors, providing a value between -1 and 1. A higher cosine similarity indicates more similar preferences, while a lower cosine similarity suggests greater dissimilarity. To quantify disagreements, we can use the complement of this similarity, which gives us a measure of dissimilarity. This value can be interpreted as a disagreement score between users.\n",
    "\n",
    "Cosine Similarity:\n",
    "\n",
    "Given two users, each represented by their preference vector (ratings for items), calculate the cosine similarity.\n",
    "A cosine similarity of 1 indicates identical preferences, 0 indicates orthogonal (uncorrelated) preferences, and -1 indicates opposite preferences.\n",
    "\n",
    "Disagreement Score:\n",
    "\n",
    "To quantify disagreements, use the complement of the cosine similarity as a disagreement score.\n",
    "Disagreement Score = 1 - Cosine Similarity\n",
    "This score ranges from 0 (indicating no disagreement) to 2 (indicating maximum disagreement).\n",
    "Method for Computing Group Suggestions with Disagreements:\n",
    "\n",
    "When computing suggestions for a group, consider the disagreement scores between all pairs of users in the group.\n",
    "Adjust the predicted ratings for each item based on the disagreement scores.\n",
    "The idea is to penalize predictions more when users have higher disagreements.\n",
    "\n",
    "Adjusting Predicted Ratings:\n",
    "\n",
    "The adjustment aims to provide more personalized and relevant recommendations by considering the diversity of preferences within the group\n",
    "Adjust the predicted ratings based on the disagreement scores between users. The idea is to penalize predictions in situations where users have high disagreements. This can be done by multiplying the predicted ratings by the disagreement scores.\n",
    "For each item:\n",
    "If users have higher disagreement scores (indicating greater dissimilarity), you decrease the predicted rating for that item.\n",
    "If users have lower disagreement scores (indicating more similarity), you may give more weight to the predicted rating."
   ]
  },
  {
   "cell_type": "code",
   "execution_count": 13,
   "metadata": {},
   "outputs": [],
   "source": [
    "def cosine_similarity(user1, user2, user_ptable):\n",
    "    common_movies = user_ptable.columns[pd.notna(user_ptable.loc[user1]) & pd.notna(user_ptable.loc[user2])]\n",
    "    if len(common_movies) < 2:\n",
    "        return 0.0\n",
    "    vector1 = user_ptable.loc[user1, common_movies]\n",
    "    vector2 = user_ptable.loc[user2, common_movies]\n",
    "    similarity = np.dot(vector1, vector2) / (np.linalg.norm(vector1) * np.linalg.norm(vector2))\n",
    "    return similarity\n"
   ]
  },
  {
   "cell_type": "code",
   "execution_count": 14,
   "metadata": {},
   "outputs": [],
   "source": [
    "def get_user_recommendations_with_disagreement(user, user_ptable, correlationfunction, prediction_function):\n",
    "\n",
    "    \n",
    "    similar_users = user_collaborative_filtering(user, user_ptable, correlationfunction)\n",
    "    sorted_similar_users = sorted(similar_users.items(), key=lambda item: item[1], reverse=True)\n",
    "    top_similar_users = sorted_similar_users[:10]\n",
    "    top_10_similar_users_dict = {user: similarity for user, similarity in top_similar_users}\n",
    "\n",
    "    user_recommendations = {}\n",
    "    for movie in user_ptable.columns:\n",
    "        if pd.isna(user_ptable.loc[user, movie]):\n",
    "            user_recommendations[movie] = prediction_function(user, movie, user_ptable, top_10_similar_users_dict)\n",
    "    return user_recommendations"
   ]
  },
  {
   "cell_type": "code",
   "execution_count": 15,
   "metadata": {},
   "outputs": [],
   "source": [
    "def group_recommendations_with_disagreement(user_recommendations_dict, cosine_similarity, user_ptable, top_n=10):\n",
    "    movie_ratings = {}\n",
    "    for user, recommendations in user_recommendations_dict.items():\n",
    "        for movie, rating in recommendations.items():\n",
    "            if movie not in movie_ratings:\n",
    "                movie_ratings[movie] = []\n",
    "            movie_ratings[movie].append(rating)\n",
    "\n",
    "    aggregated_ratings = {movie: np.mean(ratings) for movie, ratings in movie_ratings.items()}\n",
    "\n",
    "\n",
    "    # Consider disagreements using cosine similarity\n",
    "    for user1 in user_recommendations_dict:\n",
    "        for user2 in user_recommendations_dict:\n",
    "            if user1 != user2:\n",
    "                disagreement_score = 1 - cosine_similarity(user1, user2, user_ptable)\n",
    "                for movie in user_ptable.columns:\n",
    "                    if pd.isna(user_ptable.loc[user1, movie]) and pd.isna(user_ptable.loc[user2, movie]):\n",
    "                        # Adjust the aggregated rating based on the disagreement score\n",
    "                        aggregated_ratings[movie] *= disagreement_score\n",
    "\n",
    "    sorted_group_recommendations = sorted(aggregated_ratings.items(), key=lambda item: item[1], reverse=True)\n",
    "    top_group_recommendations = sorted_group_recommendations[:top_n]\n",
    "\n",
    "    return top_group_recommendations\n",
    "    "
   ]
  },
  {
   "cell_type": "code",
   "execution_count": 16,
   "metadata": {},
   "outputs": [
    {
     "ename": "IndexError",
     "evalue": "too many indices for array: array is 1-dimensional, but 2 were indexed",
     "output_type": "error",
     "traceback": [
      "\u001b[1;31m---------------------------------------------------------------------------\u001b[0m",
      "\u001b[1;31mIndexError\u001b[0m                                Traceback (most recent call last)",
      "\u001b[1;32m~\\AppData\\Local\\Temp\\ipykernel_10648\\3972814821.py\u001b[0m in \u001b[0;36m<module>\u001b[1;34m\u001b[0m\n\u001b[0;32m      1\u001b[0m \u001b[0muser_recommendations_dict\u001b[0m \u001b[1;33m=\u001b[0m \u001b[1;33m{\u001b[0m\u001b[1;33m}\u001b[0m\u001b[1;33m\u001b[0m\u001b[1;33m\u001b[0m\u001b[0m\n\u001b[0;32m      2\u001b[0m \u001b[1;32mfor\u001b[0m \u001b[0muser\u001b[0m \u001b[1;32min\u001b[0m \u001b[0mgroup_users\u001b[0m\u001b[1;33m:\u001b[0m\u001b[1;33m\u001b[0m\u001b[1;33m\u001b[0m\u001b[0m\n\u001b[1;32m----> 3\u001b[1;33m     \u001b[0muser_recommendations_dict\u001b[0m\u001b[1;33m[\u001b[0m\u001b[0muser\u001b[0m\u001b[1;33m]\u001b[0m \u001b[1;33m=\u001b[0m \u001b[0mget_user_recommendations_with_disagreement\u001b[0m\u001b[1;33m(\u001b[0m\u001b[0muser\u001b[0m\u001b[1;33m,\u001b[0m \u001b[0muser_ptable\u001b[0m\u001b[1;33m,\u001b[0m \u001b[0mcosine_similarity\u001b[0m\u001b[1;33m,\u001b[0m \u001b[0muser_prediction\u001b[0m\u001b[1;33m)\u001b[0m\u001b[1;33m\u001b[0m\u001b[1;33m\u001b[0m\u001b[0m\n\u001b[0m\u001b[0;32m      4\u001b[0m \u001b[1;33m\u001b[0m\u001b[0m\n\u001b[0;32m      5\u001b[0m \u001b[1;31m# Assume you have a DataFrame named user_ptable representing the user-item matrix\u001b[0m\u001b[1;33m\u001b[0m\u001b[1;33m\u001b[0m\u001b[0m\n",
      "\u001b[1;32m~\\AppData\\Local\\Temp\\ipykernel_10648\\3905446234.py\u001b[0m in \u001b[0;36mget_user_recommendations_with_disagreement\u001b[1;34m(user, user_ptable, correlationfunction, prediction_function)\u001b[0m\n\u001b[0;32m      2\u001b[0m \u001b[1;33m\u001b[0m\u001b[0m\n\u001b[0;32m      3\u001b[0m \u001b[1;33m\u001b[0m\u001b[0m\n\u001b[1;32m----> 4\u001b[1;33m     \u001b[0msimilar_users\u001b[0m \u001b[1;33m=\u001b[0m \u001b[0muser_collaborative_filtering\u001b[0m\u001b[1;33m(\u001b[0m\u001b[0muser\u001b[0m\u001b[1;33m,\u001b[0m \u001b[0muser_ptable\u001b[0m\u001b[1;33m,\u001b[0m \u001b[0mcorrelationfunction\u001b[0m\u001b[1;33m)\u001b[0m\u001b[1;33m\u001b[0m\u001b[1;33m\u001b[0m\u001b[0m\n\u001b[0m\u001b[0;32m      5\u001b[0m     \u001b[0msorted_similar_users\u001b[0m \u001b[1;33m=\u001b[0m \u001b[0msorted\u001b[0m\u001b[1;33m(\u001b[0m\u001b[0msimilar_users\u001b[0m\u001b[1;33m.\u001b[0m\u001b[0mitems\u001b[0m\u001b[1;33m(\u001b[0m\u001b[1;33m)\u001b[0m\u001b[1;33m,\u001b[0m \u001b[0mkey\u001b[0m\u001b[1;33m=\u001b[0m\u001b[1;32mlambda\u001b[0m \u001b[0mitem\u001b[0m\u001b[1;33m:\u001b[0m \u001b[0mitem\u001b[0m\u001b[1;33m[\u001b[0m\u001b[1;36m1\u001b[0m\u001b[1;33m]\u001b[0m\u001b[1;33m,\u001b[0m \u001b[0mreverse\u001b[0m\u001b[1;33m=\u001b[0m\u001b[1;32mTrue\u001b[0m\u001b[1;33m)\u001b[0m\u001b[1;33m\u001b[0m\u001b[1;33m\u001b[0m\u001b[0m\n\u001b[0;32m      6\u001b[0m     \u001b[0mtop_similar_users\u001b[0m \u001b[1;33m=\u001b[0m \u001b[0msorted_similar_users\u001b[0m\u001b[1;33m[\u001b[0m\u001b[1;33m:\u001b[0m\u001b[1;36m10\u001b[0m\u001b[1;33m]\u001b[0m\u001b[1;33m\u001b[0m\u001b[1;33m\u001b[0m\u001b[0m\n",
      "\u001b[1;32m~\\AppData\\Local\\Temp\\ipykernel_10648\\632866146.py\u001b[0m in \u001b[0;36muser_collaborative_filtering\u001b[1;34m(target_user, user_ptable, correlationfunction)\u001b[0m\n\u001b[0;32m     63\u001b[0m                 \u001b[1;32mif\u001b[0m \u001b[0mlen\u001b[0m\u001b[1;33m(\u001b[0m\u001b[0mset\u001b[0m\u001b[1;33m(\u001b[0m\u001b[0mtarget_user_ratings\u001b[0m\u001b[1;33m)\u001b[0m\u001b[1;33m)\u001b[0m \u001b[1;33m==\u001b[0m \u001b[1;36m1\u001b[0m \u001b[1;32mor\u001b[0m \u001b[0mlen\u001b[0m\u001b[1;33m(\u001b[0m\u001b[0mset\u001b[0m\u001b[1;33m(\u001b[0m\u001b[0muser_b_ratings\u001b[0m\u001b[1;33m)\u001b[0m\u001b[1;33m)\u001b[0m \u001b[1;33m==\u001b[0m \u001b[1;36m1\u001b[0m\u001b[1;33m:\u001b[0m\u001b[1;33m\u001b[0m\u001b[1;33m\u001b[0m\u001b[0m\n\u001b[0;32m     64\u001b[0m                     \u001b[1;32mcontinue\u001b[0m\u001b[1;33m\u001b[0m\u001b[1;33m\u001b[0m\u001b[0m\n\u001b[1;32m---> 65\u001b[1;33m                 \u001b[0msimilar_users\u001b[0m\u001b[1;33m[\u001b[0m\u001b[0muser_b\u001b[0m\u001b[1;33m]\u001b[0m \u001b[1;33m=\u001b[0m \u001b[0mcorrelationfunction\u001b[0m\u001b[1;33m(\u001b[0m\u001b[0mtarget_user_ratings\u001b[0m\u001b[1;33m,\u001b[0m\u001b[0muser_b_ratings\u001b[0m\u001b[1;33m,\u001b[0m\u001b[0muser_ptable\u001b[0m\u001b[1;33m)\u001b[0m\u001b[1;33m\u001b[0m\u001b[1;33m\u001b[0m\u001b[0m\n\u001b[0m\u001b[0;32m     66\u001b[0m \u001b[1;33m\u001b[0m\u001b[0m\n\u001b[0;32m     67\u001b[0m     \u001b[1;32mreturn\u001b[0m \u001b[0msimilar_users\u001b[0m\u001b[1;33m\u001b[0m\u001b[1;33m\u001b[0m\u001b[0m\n",
      "\u001b[1;32m~\\AppData\\Local\\Temp\\ipykernel_10648\\2587234790.py\u001b[0m in \u001b[0;36mcosine_similarity\u001b[1;34m(user1, user2, user_ptable)\u001b[0m\n\u001b[0;32m      1\u001b[0m \u001b[1;32mdef\u001b[0m \u001b[0mcosine_similarity\u001b[0m\u001b[1;33m(\u001b[0m\u001b[0muser1\u001b[0m\u001b[1;33m,\u001b[0m \u001b[0muser2\u001b[0m\u001b[1;33m,\u001b[0m \u001b[0muser_ptable\u001b[0m\u001b[1;33m)\u001b[0m\u001b[1;33m:\u001b[0m\u001b[1;33m\u001b[0m\u001b[1;33m\u001b[0m\u001b[0m\n\u001b[1;32m----> 2\u001b[1;33m     \u001b[0mcommon_movies\u001b[0m \u001b[1;33m=\u001b[0m \u001b[0muser_ptable\u001b[0m\u001b[1;33m.\u001b[0m\u001b[0mcolumns\u001b[0m\u001b[1;33m[\u001b[0m\u001b[0mpd\u001b[0m\u001b[1;33m.\u001b[0m\u001b[0mnotna\u001b[0m\u001b[1;33m(\u001b[0m\u001b[0muser_ptable\u001b[0m\u001b[1;33m.\u001b[0m\u001b[0mloc\u001b[0m\u001b[1;33m[\u001b[0m\u001b[0muser1\u001b[0m\u001b[1;33m]\u001b[0m\u001b[1;33m)\u001b[0m \u001b[1;33m&\u001b[0m \u001b[0mpd\u001b[0m\u001b[1;33m.\u001b[0m\u001b[0mnotna\u001b[0m\u001b[1;33m(\u001b[0m\u001b[0muser_ptable\u001b[0m\u001b[1;33m.\u001b[0m\u001b[0mloc\u001b[0m\u001b[1;33m[\u001b[0m\u001b[0muser2\u001b[0m\u001b[1;33m]\u001b[0m\u001b[1;33m)\u001b[0m\u001b[1;33m]\u001b[0m\u001b[1;33m\u001b[0m\u001b[1;33m\u001b[0m\u001b[0m\n\u001b[0m\u001b[0;32m      3\u001b[0m     \u001b[1;32mif\u001b[0m \u001b[0mlen\u001b[0m\u001b[1;33m(\u001b[0m\u001b[0mcommon_movies\u001b[0m\u001b[1;33m)\u001b[0m \u001b[1;33m<\u001b[0m \u001b[1;36m2\u001b[0m\u001b[1;33m:\u001b[0m\u001b[1;33m\u001b[0m\u001b[1;33m\u001b[0m\u001b[0m\n\u001b[0;32m      4\u001b[0m         \u001b[1;32mreturn\u001b[0m \u001b[1;36m0.0\u001b[0m\u001b[1;33m\u001b[0m\u001b[1;33m\u001b[0m\u001b[0m\n\u001b[0;32m      5\u001b[0m     \u001b[0mvector1\u001b[0m \u001b[1;33m=\u001b[0m \u001b[0muser_ptable\u001b[0m\u001b[1;33m.\u001b[0m\u001b[0mloc\u001b[0m\u001b[1;33m[\u001b[0m\u001b[0muser1\u001b[0m\u001b[1;33m,\u001b[0m \u001b[0mcommon_movies\u001b[0m\u001b[1;33m]\u001b[0m\u001b[1;33m\u001b[0m\u001b[1;33m\u001b[0m\u001b[0m\n",
      "\u001b[1;32mc:\\Users\\nashi\\anaconda3\\lib\\site-packages\\pandas\\core\\indexes\\base.py\u001b[0m in \u001b[0;36m__getitem__\u001b[1;34m(self, key)\u001b[0m\n\u001b[0;32m   5067\u001b[0m             \u001b[0mkey\u001b[0m \u001b[1;33m=\u001b[0m \u001b[0mnp\u001b[0m\u001b[1;33m.\u001b[0m\u001b[0masarray\u001b[0m\u001b[1;33m(\u001b[0m\u001b[0mkey\u001b[0m\u001b[1;33m,\u001b[0m \u001b[0mdtype\u001b[0m\u001b[1;33m=\u001b[0m\u001b[0mbool\u001b[0m\u001b[1;33m)\u001b[0m\u001b[1;33m\u001b[0m\u001b[1;33m\u001b[0m\u001b[0m\n\u001b[0;32m   5068\u001b[0m \u001b[1;33m\u001b[0m\u001b[0m\n\u001b[1;32m-> 5069\u001b[1;33m         \u001b[0mresult\u001b[0m \u001b[1;33m=\u001b[0m \u001b[0mgetitem\u001b[0m\u001b[1;33m(\u001b[0m\u001b[0mkey\u001b[0m\u001b[1;33m)\u001b[0m\u001b[1;33m\u001b[0m\u001b[1;33m\u001b[0m\u001b[0m\n\u001b[0m\u001b[0;32m   5070\u001b[0m         \u001b[1;31m# Because we ruled out integer above, we always get an arraylike here\u001b[0m\u001b[1;33m\u001b[0m\u001b[1;33m\u001b[0m\u001b[0m\n\u001b[0;32m   5071\u001b[0m         \u001b[1;32mif\u001b[0m \u001b[0mresult\u001b[0m\u001b[1;33m.\u001b[0m\u001b[0mndim\u001b[0m \u001b[1;33m>\u001b[0m \u001b[1;36m1\u001b[0m\u001b[1;33m:\u001b[0m\u001b[1;33m\u001b[0m\u001b[1;33m\u001b[0m\u001b[0m\n",
      "\u001b[1;31mIndexError\u001b[0m: too many indices for array: array is 1-dimensional, but 2 were indexed"
     ]
    }
   ],
   "source": [
    "user_recommendations_dict = {}\n",
    "for user in group_users:\n",
    "    user_recommendations_dict[user] = get_user_recommendations_with_disagreement(user, user_ptable, cosine_similarity, user_prediction)\n",
    "\n",
    "# Assume you have a DataFrame named user_ptable representing the user-item matrix\n",
    "disagreement_aware_ratings = group_recommendations_with_disagreement(user_recommendations_dict, cosine_similarity, user_ptable)\n",
    "disagreement_aware_recommendations = create_dataframe(disagreement_aware_ratings, movies)\n",
    "print(disagreement_aware_recommendations)"
   ]
  }
 ],
 "metadata": {
  "kernelspec": {
   "display_name": "base",
   "language": "python",
   "name": "python3"
  },
  "language_info": {
   "codemirror_mode": {
    "name": "ipython",
    "version": 3
   },
   "file_extension": ".py",
   "mimetype": "text/x-python",
   "name": "python",
   "nbconvert_exporter": "python",
   "pygments_lexer": "ipython3",
   "version": "3.9.13"
  }
 },
 "nbformat": 4,
 "nbformat_minor": 2
}
